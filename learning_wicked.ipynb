{
 "cells": [
  {
   "cell_type": "code",
   "execution_count": 2,
   "id": "f62bf456",
   "metadata": {},
   "outputs": [],
   "source": [
    "import wicked as w\n",
    "from IPython.display import display, Math, Latex\n",
    "\n",
    "def latex(expr):\n",
    "    \"\"\"Function to render any object that has a member latex() function\"\"\"\n",
    "    display(Math(expr.latex()))\n",
    "    \n",
    "w.reset_space()\n",
    "w.add_space(\"o\", \"fermion\", \"occupied\", ['i','j','k','l','m'])\n",
    "w.add_space(\"v\", \"fermion\", \"unoccupied\", ['a','b','c','d','e','f'])    "
   ]
  },
  {
   "cell_type": "code",
   "execution_count": 3,
   "id": "3fb9110e",
   "metadata": {},
   "outputs": [
    {
     "name": "stdout",
     "output_type": "stream",
     "text": [
      "+ f { v+ v } t { v+ o }\n",
      "+ f { v+ o } t { v+ o }\n",
      "+ f { o+ v } t { v+ o }\n",
      "+ f { o+ o } t { v+ o }\n"
     ]
    }
   ],
   "source": [
    "F = w.utils.gen_op('f',1,'ov','ov')\n",
    "T1 = w.op('t',['v+ o'])\n",
    "FT1 = F @ T1\n",
    "print(FT1)"
   ]
  },
  {
   "cell_type": "code",
   "execution_count": 11,
   "id": "89cabf69",
   "metadata": {},
   "outputs": [
    {
     "data": {
      "text/plain": [
       "f^{o1}_{o0} t^{o2}_{v0} a+(o0) a+(v0) a-(o2) a-(o1)\n",
       "+f^{v0}_{o0} t^{o0}_{v0}\n",
       "+f^{v0}_{o0} t^{o1}_{v0} a+(o0) a-(o1)\n",
       "-f^{v0}_{o0} t^{o0}_{v1} a+(v1) a-(v0)\n",
       "-f^{v0}_{o0} t^{o1}_{v1} a+(o0) a+(v1) a-(v0) a-(o1)\n",
       "-f^{o0}_{o1} t^{o1}_{v0} a+(v0) a-(o0)\n",
       "+f^{o0}_{v0} t^{o1}_{v1} a+(v0) a+(v1) a-(o1) a-(o0)\n",
       "+f^{v1}_{v0} t^{o0}_{v1} a+(v0) a-(o0)\n",
       "-f^{v1}_{v0} t^{o0}_{v2} a+(v0) a+(v2) a-(v1) a-(o0)"
      ]
     },
     "execution_count": 11,
     "metadata": {},
     "output_type": "execute_result"
    }
   ],
   "source": [
    "wt = w.WickTheorem()\n",
    "expr = wt.contract(FT1,minrank=0,maxrank=4)\n",
    "expr"
   ]
  },
  {
   "cell_type": "code",
   "execution_count": 12,
   "id": "d66a60e3",
   "metadata": {},
   "outputs": [
    {
     "data": {
      "text/latex": [
       "$\\displaystyle + {f}^{j}_{i} {t}^{k}_{a} \\hat{a}^{i} \\hat{a}^{a} \\hat{a}_{k} \\hat{a}_{j} \\\\ \n",
       "+ {f}^{a}_{i} {t}^{i}_{a} \\\\ \n",
       "+ {f}^{a}_{i} {t}^{j}_{a} \\hat{a}^{i} \\hat{a}_{j} \\\\ \n",
       "- {f}^{a}_{i} {t}^{i}_{b} \\hat{a}^{b} \\hat{a}_{a} \\\\ \n",
       "- {f}^{a}_{i} {t}^{j}_{b} \\hat{a}^{i} \\hat{a}^{b} \\hat{a}_{a} \\hat{a}_{j} \\\\ \n",
       "- {f}^{i}_{j} {t}^{j}_{a} \\hat{a}^{a} \\hat{a}_{i} \\\\ \n",
       "+ {f}^{i}_{a} {t}^{j}_{b} \\hat{a}^{a} \\hat{a}^{b} \\hat{a}_{j} \\hat{a}_{i} \\\\ \n",
       "+ {f}^{b}_{a} {t}^{i}_{b} \\hat{a}^{a} \\hat{a}_{i} \\\\ \n",
       "- {f}^{b}_{a} {t}^{i}_{c} \\hat{a}^{a} \\hat{a}^{c} \\hat{a}_{b} \\hat{a}_{i}$"
      ],
      "text/plain": [
       "<IPython.core.display.Math object>"
      ]
     },
     "metadata": {},
     "output_type": "display_data"
    }
   ],
   "source": [
    "latex(expr)"
   ]
  },
  {
   "cell_type": "code",
   "execution_count": 20,
   "id": "b29202e9",
   "metadata": {},
   "outputs": [
    {
     "data": {
      "text/latex": [
       "$\\displaystyle - {f}^{j}_{i} {\\lambda}^{a}_{j} {t}^{i}_{a} \\\\ \n",
       "+ {f}^{j}_{i} {\\lambda}^{a}_{j} {t}^{i}_{b} \\hat{a}^{b} \\hat{a}_{a} \\\\ \n",
       "- {f}^{b}_{i} {\\lambda}^{a}_{j} {t}^{j}_{b} \\hat{a}^{i} \\hat{a}_{a} \\\\ \n",
       "- {f}^{a}_{j} {\\lambda}^{b}_{i} {t}^{j}_{b} \\hat{a}^{i} \\hat{a}_{a} \\\\ \n",
       "+ {f}^{b}_{j} {\\lambda}^{a}_{i} {t}^{j}_{b} \\hat{a}^{i} \\hat{a}_{a} \\\\ \n",
       "- {f}^{i}_{k} {\\lambda}^{a}_{j} {t}^{k}_{a} \\hat{a}^{j} \\hat{a}_{i} \\\\ \n",
       "+ {f}^{b}_{a} {\\lambda}^{a}_{i} {t}^{i}_{b} \\\\ \n",
       "+ {f}^{b}_{a} {\\lambda}^{a}_{i} {t}^{j}_{b} \\hat{a}^{i} \\hat{a}_{j} \\\\ \n",
       "- {f}^{c}_{a} {\\lambda}^{b}_{i} {t}^{i}_{c} \\hat{a}^{a} \\hat{a}_{b}$"
      ],
      "text/plain": [
       "<IPython.core.display.Math object>"
      ]
     },
     "metadata": {},
     "output_type": "display_data"
    }
   ],
   "source": [
    "L1 = w.op('lambda',['o+ v'])\n",
    "opexpr = L1 @ w.commutator(F,T1)\n",
    "expr = wt.contract(opexpr,0,2)\n",
    "latex(expr)"
   ]
  },
  {
   "cell_type": "code",
   "execution_count": 23,
   "id": "2cb72b44",
   "metadata": {},
   "outputs": [],
   "source": [
    "E0 = w.op(\"E_0\",[\"\"])\n",
    "F = w.utils.gen_op('f',1,'ov','ov')\n",
    "V = w.utils.gen_op('v',2,'ov','ov')\n",
    "H = E0 + F + V\n",
    "\n",
    "T = w.op(\"t\",[\"v+ o\", \"v+ v+ o o\", \"v+ v+ v+ o o o\"])\n"
   ]
  },
  {
   "cell_type": "code",
   "execution_count": 29,
   "id": "cc87c4c8",
   "metadata": {},
   "outputs": [
    {
     "data": {
      "text/latex": [
       "$\\displaystyle + {E_{0}}^{}_{} \\\\ \n",
       "+ {f}^{a}_{i} {t}^{i}_{a} \\\\ \n",
       "+\\frac{1}{2} {t}^{i}_{a} {t}^{j}_{b} {v}^{a b}_{i j} \\\\ \n",
       "+\\frac{1}{4} {t}^{i j}_{a b} {v}^{a b}_{i j}$"
      ],
      "text/plain": [
       "<IPython.core.display.Math object>"
      ]
     },
     "metadata": {},
     "output_type": "display_data"
    }
   ],
   "source": [
    "Hbar = w.bch_series(H,T,2)\n",
    "expr = wt.contract(Hbar,0,0)\n",
    "latex(expr)"
   ]
  },
  {
   "cell_type": "code",
   "execution_count": 30,
   "id": "92e6522f",
   "metadata": {},
   "outputs": [
    {
     "data": {
      "text/plain": [
       "{'|': [r^{}_{} +=  E_0^{}_{},\n",
       "  r^{}_{} +=  f^{v0}_{o0} t^{o0}_{v0},\n",
       "  r^{}_{} += 1/2 t^{o0}_{v0} t^{o1}_{v1} v^{v0,v1}_{o0,o1},\n",
       "  r^{}_{} += 1/4 t^{o0,o1}_{v0,v1} v^{v0,v1}_{o0,o1}]}"
      ]
     },
     "execution_count": 30,
     "metadata": {},
     "output_type": "execute_result"
    }
   ],
   "source": [
    "mbeq = expr.to_manybody_equations('r')\n",
    "mbeq"
   ]
  },
  {
   "cell_type": "code",
   "execution_count": 31,
   "id": "7e5780b2",
   "metadata": {},
   "outputs": [],
   "source": [
    "from numpy import einsum"
   ]
  },
  {
   "cell_type": "code",
   "execution_count": 32,
   "id": "1d0a7421",
   "metadata": {},
   "outputs": [
    {
     "name": "stdout",
     "output_type": "stream",
     "text": [
      "r += 1.000000000 * np.einsum(\"->\",E_0[\"\"],optimize=\"optimal\")\n",
      "r += 1.000000000 * np.einsum(\"ai,ia->\",f[\"vo\"],t[\"ov\"],optimize=\"optimal\")\n",
      "r += 0.500000000 * np.einsum(\"ia,jb,abij->\",t[\"ov\"],t[\"ov\"],v[\"vvoo\"],optimize=\"optimal\")\n",
      "r += 0.250000000 * np.einsum(\"ijab,abij->\",t[\"oovv\"],v[\"vvoo\"],optimize=\"optimal\")\n"
     ]
    }
   ],
   "source": [
    "for eq in mbeq['|']:\n",
    "    print(eq.compile('einsum'))\n"
   ]
  },
  {
   "cell_type": "code",
   "execution_count": null,
   "id": "8d8dcefb",
   "metadata": {},
   "outputs": [],
   "source": []
  }
 ],
 "metadata": {
  "kernelspec": {
   "display_name": "Python 3 (ipykernel)",
   "language": "python",
   "name": "python3"
  },
  "language_info": {
   "codemirror_mode": {
    "name": "ipython",
    "version": 3
   },
   "file_extension": ".py",
   "mimetype": "text/x-python",
   "name": "python",
   "nbconvert_exporter": "python",
   "pygments_lexer": "ipython3",
   "version": "3.7.16"
  }
 },
 "nbformat": 4,
 "nbformat_minor": 5
}
