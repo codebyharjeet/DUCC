{
 "cells": [
  {
   "cell_type": "code",
   "execution_count": 10,
   "id": "2ec70034",
   "metadata": {},
   "outputs": [],
   "source": [
    "import wicked as w\n",
    "from IPython.display import display, Math, Latex\n",
    "from numpy import einsum\n",
    "\n",
    "def latex(expr):\n",
    "    \"\"\"Function to render any object that has a member latex() function\"\"\"\n",
    "    display(Math(expr.latex()))\n",
    "    \n",
    "w.reset_space()\n",
    "w.add_space(\"o\", \"fermion\", \"occupied\", ['i','j','k','l','m'])\n",
    "w.add_space(\"v\", \"fermion\", \"unoccupied\", ['a','b','c','d','e','f'])   "
   ]
  },
  {
   "cell_type": "code",
   "execution_count": 11,
   "id": "b55059d0",
   "metadata": {},
   "outputs": [
    {
     "data": {
      "text/plain": [
       "+ f { o+ o }"
      ]
     },
     "execution_count": 11,
     "metadata": {},
     "output_type": "execute_result"
    }
   ],
   "source": [
    "Foo = w.op('f',['o+ o'])\n",
    "Foo"
   ]
  },
  {
   "cell_type": "code",
   "execution_count": 12,
   "id": "44e39b45",
   "metadata": {},
   "outputs": [
    {
     "name": "stdout",
     "output_type": "stream",
     "text": [
      "+ t { v+ o }\n",
      "+ t { o+ v }\n"
     ]
    }
   ],
   "source": [
    "T1_e = w.op('t',['v+ o'])\n",
    "T1_d = w.op('t',['o+ v'])\n",
    "print(T1_e)\n",
    "print(T1_d)"
   ]
  },
  {
   "cell_type": "code",
   "execution_count": 13,
   "id": "e50a9828",
   "metadata": {},
   "outputs": [
    {
     "data": {
      "text/plain": [
       "+ f { o+ o } t { v+ o }\n",
       "- f { o+ o } t { o+ v }\n",
       "- t { v+ o } f { o+ o }\n",
       "+ t { o+ v } f { o+ o }"
      ]
     },
     "execution_count": 13,
     "metadata": {},
     "output_type": "execute_result"
    }
   ],
   "source": [
    "FooT1 = w.commutator(Foo,T1_e-T1_d)\n",
    "FooT1"
   ]
  },
  {
   "cell_type": "code",
   "execution_count": 14,
   "id": "5ebc68c8",
   "metadata": {},
   "outputs": [
    {
     "data": {
      "text/latex": [
       "$\\displaystyle - {f}^{j}_{i} {t}^{a}_{j} \\hat{a}^{i} \\hat{a}_{a} \\\\ \n",
       "- {f}^{i}_{j} {t}^{j}_{a} \\hat{a}^{a} \\hat{a}_{i}$"
      ],
      "text/plain": [
       "<IPython.core.display.Math object>"
      ]
     },
     "metadata": {},
     "output_type": "display_data"
    }
   ],
   "source": [
    "wt = w.WickTheorem()\n",
    "expr = wt.contract(FooT1,minrank=0,maxrank=4)\n",
    "expr\n",
    "latex(expr)"
   ]
  },
  {
   "cell_type": "code",
   "execution_count": 15,
   "id": "8ddf9989",
   "metadata": {},
   "outputs": [
    {
     "data": {
      "text/latex": [
       "$\\displaystyle + {f}^{a}_{i} {t}^{i}_{a} \\\\ \n",
       "+ {f}^{a}_{i} {t}^{j}_{a} \\hat{a}^{i} \\hat{a}_{j} \\\\ \n",
       "- {f}^{a}_{i} {t}^{i}_{b} \\hat{a}^{b} \\hat{a}_{a}$"
      ],
      "text/plain": [
       "<IPython.core.display.Math object>"
      ]
     },
     "metadata": {},
     "output_type": "display_data"
    }
   ],
   "source": [
    "Fov = w.op('f',['o+ v'])\n",
    "FovT1 = w.commutator(Fov,T1_e-T1_d)\n",
    "expr = wt.contract(FovT1,minrank=0,maxrank=4)\n",
    "latex(expr)"
   ]
  },
  {
   "cell_type": "code",
   "execution_count": 16,
   "id": "75235979",
   "metadata": {},
   "outputs": [
    {
     "data": {
      "text/latex": [
       "$\\displaystyle + {f}^{i}_{a} {t}^{a}_{i} \\\\ \n",
       "- {f}^{i}_{a} {t}^{b}_{i} \\hat{a}^{a} \\hat{a}_{b} \\\\ \n",
       "+ {f}^{i}_{a} {t}^{a}_{j} \\hat{a}^{j} \\hat{a}_{i}$"
      ],
      "text/plain": [
       "<IPython.core.display.Math object>"
      ]
     },
     "metadata": {},
     "output_type": "display_data"
    }
   ],
   "source": [
    "Fvo = w.op('f',['v+ o'])\n",
    "FvoT1 = w.commutator(Fvo,T1_e-T1_d)\n",
    "expr = wt.contract(FvoT1,minrank=0,maxrank=4)\n",
    "latex(expr)"
   ]
  },
  {
   "cell_type": "code",
   "execution_count": 17,
   "id": "c31a8f4a",
   "metadata": {
    "scrolled": false
   },
   "outputs": [
    {
     "data": {
      "text/latex": [
       "$\\displaystyle + {f}^{b}_{a} {t}^{i}_{b} \\hat{a}^{a} \\hat{a}_{i} \\\\ \n",
       "+ {f}^{a}_{b} {t}^{b}_{i} \\hat{a}^{i} \\hat{a}_{a}$"
      ],
      "text/plain": [
       "<IPython.core.display.Math object>"
      ]
     },
     "metadata": {},
     "output_type": "display_data"
    }
   ],
   "source": [
    "Fvv = w.op('f',['v+ v'])\n",
    "FvvT1 = w.commutator(Fvv,T1_e-T1_d)\n",
    "expr = wt.contract(FvvT1,minrank=0,maxrank=4)\n",
    "latex(expr)"
   ]
  },
  {
   "cell_type": "code",
   "execution_count": 22,
   "id": "b4ef50aa",
   "metadata": {},
   "outputs": [
    {
     "data": {
      "text/latex": [
       "$\\displaystyle - {f}^{j}_{i} {t}^{a}_{j} \\hat{a}^{i} \\hat{a}_{a} \\\\ \n",
       "+ {f}^{a}_{i} {t}^{i}_{a} \\\\ \n",
       "+ {f}^{a}_{i} {t}^{j}_{a} \\hat{a}^{i} \\hat{a}_{j} \\\\ \n",
       "- {f}^{a}_{i} {t}^{i}_{b} \\hat{a}^{b} \\hat{a}_{a} \\\\ \n",
       "- {f}^{i}_{j} {t}^{j}_{a} \\hat{a}^{a} \\hat{a}_{i} \\\\ \n",
       "+ {f}^{i}_{a} {t}^{a}_{i} \\\\ \n",
       "- {f}^{i}_{a} {t}^{b}_{i} \\hat{a}^{a} \\hat{a}_{b} \\\\ \n",
       "+ {f}^{i}_{a} {t}^{a}_{j} \\hat{a}^{j} \\hat{a}_{i} \\\\ \n",
       "+ {f}^{b}_{a} {t}^{i}_{b} \\hat{a}^{a} \\hat{a}_{i} \\\\ \n",
       "+ {f}^{a}_{b} {t}^{b}_{i} \\hat{a}^{i} \\hat{a}_{a}$"
      ],
      "text/plain": [
       "<IPython.core.display.Math object>"
      ]
     },
     "metadata": {},
     "output_type": "display_data"
    },
    {
     "name": "stdout",
     "output_type": "stream",
     "text": [
      "ft1vo += -1.000000000 * np.einsum(\"ji,aj->ai\",f[\"oo\"],t[\"vo\"],optimize=\"optimal\")\n",
      "ft1vo += 1.000000000 * np.einsum(\"ab,bi->ai\",f[\"vv\"],t[\"vo\"],optimize=\"optimal\")\n"
     ]
    }
   ],
   "source": [
    "F = w.utils.gen_op('f',1,'ov','ov')\n",
    "FT1 = w.commutator(F,T1_e-T1_d)\n",
    "expr = wt.contract(FT1,minrank=0,maxrank=4)\n",
    "latex(expr)\n",
    "mbeq = expr.to_manybody_equations('ft1')\n",
    "mbeq\n",
    "for eq in mbeq['v|o']:\n",
    "    print(eq.compile('einsum'))"
   ]
  },
  {
   "cell_type": "code",
   "execution_count": 73,
   "id": "204ae5d3",
   "metadata": {},
   "outputs": [
    {
     "data": {
      "text/latex": [
       "$\\displaystyle +\\frac{1}{2} {f}^{k}_{i} {t}^{a b}_{j k} \\hat{a}^{i} \\hat{a}^{j} \\hat{a}_{b} \\hat{a}_{a} \\\\ \n",
       "+\\frac{1}{2} {f}^{i}_{k} {t}^{j k}_{a b} \\hat{a}^{a} \\hat{a}^{b} \\hat{a}_{j} \\hat{a}_{i}$"
      ],
      "text/plain": [
       "<IPython.core.display.Math object>"
      ]
     },
     "metadata": {},
     "output_type": "display_data"
    }
   ],
   "source": [
    "T2_e = w.op('t',['v+ v+ o o'])\n",
    "T2_d = w.op('t',['o+ o+ v v'])\n",
    "FooT2 = w.commutator(Foo,T2_e-T2_d)\n",
    "expr = wt.contract(FooT2,minrank=0,maxrank=10)\n",
    "latex(expr)"
   ]
  },
  {
   "cell_type": "code",
   "execution_count": 74,
   "id": "14ba5a41",
   "metadata": {},
   "outputs": [
    {
     "data": {
      "text/latex": [
       "$\\displaystyle -\\frac{1}{2} {f}^{b}_{i} {t}^{j k}_{a b} \\hat{a}^{i} \\hat{a}^{a} \\hat{a}_{k} \\hat{a}_{j} \\\\ \n",
       "-\\frac{1}{2} {f}^{a}_{j} {t}^{i j}_{b c} \\hat{a}^{b} \\hat{a}^{c} \\hat{a}_{a} \\hat{a}_{i} \\\\ \n",
       "+ {f}^{b}_{j} {t}^{i j}_{a b} \\hat{a}^{a} \\hat{a}_{i}$"
      ],
      "text/plain": [
       "<IPython.core.display.Math object>"
      ]
     },
     "metadata": {},
     "output_type": "display_data"
    }
   ],
   "source": [
    "FovT2 = w.commutator(Fov,T2_e-T2_d)\n",
    "expr = wt.contract(FovT2,minrank=0,maxrank=10)\n",
    "latex(expr)"
   ]
  },
  {
   "cell_type": "code",
   "execution_count": 75,
   "id": "b48ba8f1",
   "metadata": {},
   "outputs": [
    {
     "data": {
      "text/latex": [
       "$\\displaystyle -\\frac{1}{2} {f}^{j}_{a} {t}^{b c}_{i j} \\hat{a}^{i} \\hat{a}^{a} \\hat{a}_{c} \\hat{a}_{b} \\\\ \n",
       "-\\frac{1}{2} {f}^{i}_{b} {t}^{a b}_{j k} \\hat{a}^{j} \\hat{a}^{k} \\hat{a}_{a} \\hat{a}_{i} \\\\ \n",
       "+ {f}^{j}_{b} {t}^{a b}_{i j} \\hat{a}^{i} \\hat{a}_{a}$"
      ],
      "text/plain": [
       "<IPython.core.display.Math object>"
      ]
     },
     "metadata": {},
     "output_type": "display_data"
    }
   ],
   "source": [
    "FvoT2 = w.commutator(Fvo,T2_e-T2_d)\n",
    "expr = wt.contract(FvoT2,minrank=0,maxrank=10)\n",
    "latex(expr)"
   ]
  },
  {
   "cell_type": "code",
   "execution_count": 76,
   "id": "3656a4ba",
   "metadata": {},
   "outputs": [
    {
     "data": {
      "text/latex": [
       "$\\displaystyle -\\frac{1}{2} {f}^{c}_{a} {t}^{i j}_{b c} \\hat{a}^{a} \\hat{a}^{b} \\hat{a}_{j} \\hat{a}_{i} \\\\ \n",
       "-\\frac{1}{2} {f}^{a}_{c} {t}^{b c}_{i j} \\hat{a}^{i} \\hat{a}^{j} \\hat{a}_{b} \\hat{a}_{a}$"
      ],
      "text/plain": [
       "<IPython.core.display.Math object>"
      ]
     },
     "metadata": {},
     "output_type": "display_data"
    }
   ],
   "source": [
    "FvvT2 = w.commutator(Fvv,T2_e-T2_d)\n",
    "expr = wt.contract(FvvT2,minrank=0,maxrank=10)\n",
    "latex(expr)"
   ]
  },
  {
   "cell_type": "code",
   "execution_count": 77,
   "id": "23f5e51f",
   "metadata": {},
   "outputs": [
    {
     "data": {
      "text/latex": [
       "$\\displaystyle +\\frac{1}{2} {f}^{k}_{i} {t}^{a b}_{j k} \\hat{a}^{i} \\hat{a}^{j} \\hat{a}_{b} \\hat{a}_{a} \\\\ \n",
       "-\\frac{1}{2} {f}^{b}_{i} {t}^{j k}_{a b} \\hat{a}^{i} \\hat{a}^{a} \\hat{a}_{k} \\hat{a}_{j} \\\\ \n",
       "-\\frac{1}{2} {f}^{a}_{j} {t}^{i j}_{b c} \\hat{a}^{b} \\hat{a}^{c} \\hat{a}_{a} \\hat{a}_{i} \\\\ \n",
       "+ {f}^{b}_{j} {t}^{i j}_{a b} \\hat{a}^{a} \\hat{a}_{i} \\\\ \n",
       "+\\frac{1}{2} {f}^{i}_{k} {t}^{j k}_{a b} \\hat{a}^{a} \\hat{a}^{b} \\hat{a}_{j} \\hat{a}_{i} \\\\ \n",
       "-\\frac{1}{2} {f}^{j}_{a} {t}^{b c}_{i j} \\hat{a}^{i} \\hat{a}^{a} \\hat{a}_{c} \\hat{a}_{b} \\\\ \n",
       "-\\frac{1}{2} {f}^{c}_{a} {t}^{i j}_{b c} \\hat{a}^{a} \\hat{a}^{b} \\hat{a}_{j} \\hat{a}_{i} \\\\ \n",
       "-\\frac{1}{2} {f}^{i}_{b} {t}^{a b}_{j k} \\hat{a}^{j} \\hat{a}^{k} \\hat{a}_{a} \\hat{a}_{i} \\\\ \n",
       "+ {f}^{j}_{b} {t}^{a b}_{i j} \\hat{a}^{i} \\hat{a}_{a} \\\\ \n",
       "-\\frac{1}{2} {f}^{a}_{c} {t}^{b c}_{i j} \\hat{a}^{i} \\hat{a}^{j} \\hat{a}_{b} \\hat{a}_{a}$"
      ],
      "text/plain": [
       "<IPython.core.display.Math object>"
      ]
     },
     "metadata": {},
     "output_type": "display_data"
    }
   ],
   "source": [
    "FT2 = w.commutator(F,T2_e-T2_d)\n",
    "expr = wt.contract(FT2,minrank=0,maxrank=10)\n",
    "latex(expr)"
   ]
  },
  {
   "cell_type": "code",
   "execution_count": 81,
   "id": "fc32b5be",
   "metadata": {},
   "outputs": [
    {
     "data": {
      "text/latex": [
       "$\\displaystyle -\\frac{1}{2} {V}^{k l}_{i j} {t}^{a}_{l} \\hat{a}^{i} \\hat{a}^{j} \\hat{a}_{a} \\hat{a}_{k} \\\\ \n",
       "-\\frac{1}{2} {V}^{j k}_{i l} {t}^{l}_{a} \\hat{a}^{i} \\hat{a}^{a} \\hat{a}_{k} \\hat{a}_{j}$"
      ],
      "text/plain": [
       "<IPython.core.display.Math object>"
      ]
     },
     "metadata": {},
     "output_type": "display_data"
    }
   ],
   "source": [
    "Woooo = w.op('V',['o+ o+ o o'])\n",
    "WooooT1 = w.commutator(Woooo,T1_e-T1_d)\n",
    "expr = wt.contract(WooooT1,minrank=0,maxrank=10)\n",
    "latex(expr)"
   ]
  },
  {
   "cell_type": "code",
   "execution_count": 82,
   "id": "4f7bf71c",
   "metadata": {},
   "outputs": [
    {
     "data": {
      "text/latex": [
       "$\\displaystyle + {V}^{i j}_{a b} {t}^{b}_{j} \\hat{a}^{a} \\hat{a}_{i} \\\\ \n",
       "-\\frac{1}{2} {V}^{i j}_{a b} {t}^{c}_{j} \\hat{a}^{a} \\hat{a}^{b} \\hat{a}_{c} \\hat{a}_{i} \\\\ \n",
       "-\\frac{1}{2} {V}^{i j}_{a b} {t}^{b}_{k} \\hat{a}^{k} \\hat{a}^{a} \\hat{a}_{j} \\hat{a}_{i}$"
      ],
      "text/plain": [
       "<IPython.core.display.Math object>"
      ]
     },
     "metadata": {},
     "output_type": "display_data"
    }
   ],
   "source": [
    "Wvvoo = w.op('V',['v+ v+ o o'])\n",
    "WvvooT1 = w.commutator(Wvvoo,T1_e-T1_d)\n",
    "expr = wt.contract(WvvooT1,minrank=0,maxrank=10)\n",
    "latex(expr)"
   ]
  },
  {
   "cell_type": "code",
   "execution_count": 83,
   "id": "4d90830c",
   "metadata": {},
   "outputs": [
    {
     "data": {
      "text/latex": [
       "$\\displaystyle + {V}^{a b}_{i j} {t}^{j}_{b} \\hat{a}^{i} \\hat{a}_{a} \\\\ \n",
       "-\\frac{1}{2} {V}^{a b}_{i j} {t}^{k}_{b} \\hat{a}^{i} \\hat{a}^{j} \\hat{a}_{a} \\hat{a}_{k} \\\\ \n",
       "-\\frac{1}{2} {V}^{a b}_{i j} {t}^{j}_{c} \\hat{a}^{i} \\hat{a}^{c} \\hat{a}_{b} \\hat{a}_{a}$"
      ],
      "text/plain": [
       "<IPython.core.display.Math object>"
      ]
     },
     "metadata": {},
     "output_type": "display_data"
    }
   ],
   "source": [
    "Woovv = w.op('V',['o+ o+ v v'])\n",
    "WoovvT1 = w.commutator(Woovv,T1_e-T1_d)\n",
    "expr = wt.contract(WoovvT1,minrank=0,maxrank=10)\n",
    "latex(expr)"
   ]
  },
  {
   "cell_type": "code",
   "execution_count": 84,
   "id": "877c73b6",
   "metadata": {},
   "outputs": [
    {
     "data": {
      "text/latex": [
       "$\\displaystyle -\\frac{1}{2} {V}^{c d}_{a b} {t}^{i}_{d} \\hat{a}^{a} \\hat{a}^{b} \\hat{a}_{c} \\hat{a}_{i} \\\\ \n",
       "-\\frac{1}{2} {V}^{b c}_{a d} {t}^{d}_{i} \\hat{a}^{i} \\hat{a}^{a} \\hat{a}_{c} \\hat{a}_{b}$"
      ],
      "text/plain": [
       "<IPython.core.display.Math object>"
      ]
     },
     "metadata": {},
     "output_type": "display_data"
    }
   ],
   "source": [
    "Wvvvv = w.op('V',['v+ v+ v v'])\n",
    "WvvvvT1 = w.commutator(Wvvvv,T1_e-T1_d)\n",
    "expr = wt.contract(WvvvvT1,minrank=0,maxrank=10)\n",
    "latex(expr)"
   ]
  },
  {
   "cell_type": "code",
   "execution_count": 85,
   "id": "5b93458c",
   "metadata": {},
   "outputs": [
    {
     "data": {
      "text/latex": [
       "$\\displaystyle -\\frac{1}{2} {V}^{k l}_{i j} {t}^{a}_{l} \\hat{a}^{i} \\hat{a}^{j} \\hat{a}_{a} \\hat{a}_{k} \\\\ \n",
       "+\\frac{1}{2} {V}^{k a}_{i j} {t}^{b}_{k} \\hat{a}^{i} \\hat{a}^{j} \\hat{a}_{b} \\hat{a}_{a} \\\\ \n",
       "+\\frac{1}{2} {V}^{k a}_{i j} {t}^{l}_{a} \\hat{a}^{i} \\hat{a}^{j} \\hat{a}_{l} \\hat{a}_{k} \\\\ \n",
       "+ {V}^{a b}_{i j} {t}^{j}_{b} \\hat{a}^{i} \\hat{a}_{a} \\\\ \n",
       "-\\frac{1}{2} {V}^{a b}_{i j} {t}^{k}_{b} \\hat{a}^{i} \\hat{a}^{j} \\hat{a}_{a} \\hat{a}_{k} \\\\ \n",
       "-\\frac{1}{2} {V}^{a b}_{i j} {t}^{j}_{c} \\hat{a}^{i} \\hat{a}^{c} \\hat{a}_{b} \\hat{a}_{a} \\\\ \n",
       "+ {V}^{j a}_{i k} {t}^{k}_{a} \\hat{a}^{i} \\hat{a}_{j} \\\\ \n",
       "- {V}^{j a}_{i k} {t}^{k}_{b} \\hat{a}^{i} \\hat{a}^{b} \\hat{a}_{a} \\hat{a}_{j} \\\\ \n",
       "-\\frac{1}{2} {V}^{j k}_{i l} {t}^{l}_{a} \\hat{a}^{i} \\hat{a}^{a} \\hat{a}_{k} \\hat{a}_{j} \\\\ \n",
       "+ {V}^{j k}_{i a} {t}^{a}_{k} \\hat{a}^{i} \\hat{a}_{j} \\\\ \n",
       "- {V}^{j k}_{i a} {t}^{b}_{k} \\hat{a}^{i} \\hat{a}^{a} \\hat{a}_{b} \\hat{a}_{j} \\\\ \n",
       "+\\frac{1}{2} {V}^{j k}_{i a} {t}^{a}_{l} \\hat{a}^{i} \\hat{a}^{l} \\hat{a}_{k} \\hat{a}_{j} \\\\ \n",
       "+ {V}^{j b}_{i a} {t}^{c}_{j} \\hat{a}^{i} \\hat{a}^{a} \\hat{a}_{c} \\hat{a}_{b} \\\\ \n",
       "+ {V}^{j b}_{i a} {t}^{k}_{b} \\hat{a}^{i} \\hat{a}^{a} \\hat{a}_{k} \\hat{a}_{j} \\\\ \n",
       "- {V}^{b c}_{i a} {t}^{i}_{c} \\hat{a}^{a} \\hat{a}_{b} \\\\ \n",
       "- {V}^{b c}_{i a} {t}^{j}_{c} \\hat{a}^{i} \\hat{a}^{a} \\hat{a}_{b} \\hat{a}_{j} \\\\ \n",
       "+\\frac{1}{2} {V}^{b c}_{i a} {t}^{i}_{d} \\hat{a}^{a} \\hat{a}^{d} \\hat{a}_{c} \\hat{a}_{b} \\\\ \n",
       "- {V}^{j a}_{i b} {t}^{b}_{j} \\hat{a}^{i} \\hat{a}_{a} \\\\ \n",
       "+ {V}^{j a}_{i b} {t}^{b}_{k} \\hat{a}^{i} \\hat{a}^{k} \\hat{a}_{a} \\hat{a}_{j} \\\\ \n",
       "+\\frac{1}{2} {V}^{a b}_{i c} {t}^{c}_{j} \\hat{a}^{i} \\hat{a}^{j} \\hat{a}_{b} \\hat{a}_{a} \\\\ \n",
       "- {V}^{i b}_{j a} {t}^{j}_{b} \\hat{a}^{a} \\hat{a}_{i} \\\\ \n",
       "+ {V}^{i b}_{j a} {t}^{j}_{c} \\hat{a}^{a} \\hat{a}^{c} \\hat{a}_{b} \\hat{a}_{i} \\\\ \n",
       "+\\frac{1}{2} {V}^{i j}_{k a} {t}^{k}_{b} \\hat{a}^{a} \\hat{a}^{b} \\hat{a}_{j} \\hat{a}_{i} \\\\ \n",
       "+ {V}^{i j}_{a b} {t}^{b}_{j} \\hat{a}^{a} \\hat{a}_{i} \\\\ \n",
       "-\\frac{1}{2} {V}^{i j}_{a b} {t}^{c}_{j} \\hat{a}^{a} \\hat{a}^{b} \\hat{a}_{c} \\hat{a}_{i} \\\\ \n",
       "-\\frac{1}{2} {V}^{i j}_{a b} {t}^{b}_{k} \\hat{a}^{k} \\hat{a}^{a} \\hat{a}_{j} \\hat{a}_{i} \\\\ \n",
       "+\\frac{1}{2} {V}^{i c}_{a b} {t}^{d}_{i} \\hat{a}^{a} \\hat{a}^{b} \\hat{a}_{d} \\hat{a}_{c} \\\\ \n",
       "+\\frac{1}{2} {V}^{i c}_{a b} {t}^{j}_{c} \\hat{a}^{a} \\hat{a}^{b} \\hat{a}_{j} \\hat{a}_{i} \\\\ \n",
       "-\\frac{1}{2} {V}^{c d}_{a b} {t}^{i}_{d} \\hat{a}^{a} \\hat{a}^{b} \\hat{a}_{c} \\hat{a}_{i} \\\\ \n",
       "- {V}^{i b}_{a c} {t}^{c}_{i} \\hat{a}^{a} \\hat{a}_{b} \\\\ \n",
       "- {V}^{i b}_{a c} {t}^{c}_{j} \\hat{a}^{j} \\hat{a}^{a} \\hat{a}_{b} \\hat{a}_{i} \\\\ \n",
       "-\\frac{1}{2} {V}^{b c}_{a d} {t}^{d}_{i} \\hat{a}^{i} \\hat{a}^{a} \\hat{a}_{c} \\hat{a}_{b}$"
      ],
      "text/plain": [
       "<IPython.core.display.Math object>"
      ]
     },
     "metadata": {},
     "output_type": "display_data"
    }
   ],
   "source": [
    "W = w.utils.gen_op('V',2,'ov','ov')\n",
    "WT1 = w.commutator(W,T1_e-T1_d)\n",
    "expr = wt.contract(WT1,minrank=0,maxrank=10)\n",
    "latex(expr)"
   ]
  },
  {
   "cell_type": "code",
   "execution_count": 86,
   "id": "e48e553d",
   "metadata": {},
   "outputs": [
    {
     "data": {
      "text/latex": [
       "$\\displaystyle +\\frac{1}{8} {V}^{k l}_{i j} {t}^{a b}_{k l} \\hat{a}^{i} \\hat{a}^{j} \\hat{a}_{b} \\hat{a}_{a} \\\\ \n",
       "+\\frac{1}{4} {V}^{k m}_{i j} {t}^{a b}_{l m} \\hat{a}^{i} \\hat{a}^{j} \\hat{a}^{l} \\hat{a}_{b} \\hat{a}_{a} \\hat{a}_{k} \\\\ \n",
       "+\\frac{1}{4} {V}^{j k}_{i m} {t}^{l m}_{a b} \\hat{a}^{i} \\hat{a}^{a} \\hat{a}^{b} \\hat{a}_{l} \\hat{a}_{k} \\hat{a}_{j} \\\\ \n",
       "+\\frac{1}{8} {V}^{i j}_{k l} {t}^{k l}_{a b} \\hat{a}^{a} \\hat{a}^{b} \\hat{a}_{j} \\hat{a}_{i}$"
      ],
      "text/plain": [
       "<IPython.core.display.Math object>"
      ]
     },
     "metadata": {},
     "output_type": "display_data"
    }
   ],
   "source": [
    "WooooT2 = w.commutator(Woooo,T2_e-T2_d)\n",
    "expr = wt.contract(WooooT2,minrank=0,maxrank=10)\n",
    "latex(expr)"
   ]
  },
  {
   "cell_type": "code",
   "execution_count": 87,
   "id": "11459b93",
   "metadata": {},
   "outputs": [
    {
     "data": {
      "text/latex": [
       "$\\displaystyle +\\frac{1}{4} {V}^{i j}_{a b} {t}^{a b}_{i j} \\\\ \n",
       "+\\frac{1}{8} {V}^{i j}_{a b} {t}^{c d}_{i j} \\hat{a}^{a} \\hat{a}^{b} \\hat{a}_{d} \\hat{a}_{c} \\\\ \n",
       "+\\frac{1}{8} {V}^{i j}_{a b} {t}^{a b}_{k l} \\hat{a}^{k} \\hat{a}^{l} \\hat{a}_{j} \\hat{a}_{i} \\\\ \n",
       "+\\frac{1}{2} {V}^{i k}_{a b} {t}^{a b}_{j k} \\hat{a}^{j} \\hat{a}_{i} \\\\ \n",
       "+\\frac{1}{4} {V}^{i k}_{a b} {t}^{c d}_{j k} \\hat{a}^{j} \\hat{a}^{a} \\hat{a}^{b} \\hat{a}_{d} \\hat{a}_{c} \\hat{a}_{i} \\\\ \n",
       "-\\frac{1}{2} {V}^{i j}_{a c} {t}^{b c}_{i j} \\hat{a}^{a} \\hat{a}_{b} \\\\ \n",
       "-\\frac{1}{4} {V}^{i j}_{a c} {t}^{b c}_{k l} \\hat{a}^{k} \\hat{a}^{l} \\hat{a}^{a} \\hat{a}_{b} \\hat{a}_{j} \\hat{a}_{i} \\\\ \n",
       "- {V}^{i k}_{a c} {t}^{b c}_{j k} \\hat{a}^{j} \\hat{a}^{a} \\hat{a}_{b} \\hat{a}_{i}$"
      ],
      "text/plain": [
       "<IPython.core.display.Math object>"
      ]
     },
     "metadata": {},
     "output_type": "display_data"
    }
   ],
   "source": [
    "WvvooT2 = w.commutator(Wvvoo,T2_e-T2_d)\n",
    "expr = wt.contract(WvvooT2,minrank=0,maxrank=10)\n",
    "latex(expr)"
   ]
  },
  {
   "cell_type": "code",
   "execution_count": 88,
   "id": "260e0c22",
   "metadata": {},
   "outputs": [
    {
     "data": {
      "text/latex": [
       "$\\displaystyle +\\frac{1}{4} {V}^{a b}_{i j} {t}^{i j}_{a b} \\\\ \n",
       "+\\frac{1}{8} {V}^{a b}_{i j} {t}^{k l}_{a b} \\hat{a}^{i} \\hat{a}^{j} \\hat{a}_{l} \\hat{a}_{k} \\\\ \n",
       "+\\frac{1}{8} {V}^{a b}_{i j} {t}^{i j}_{c d} \\hat{a}^{c} \\hat{a}^{d} \\hat{a}_{b} \\hat{a}_{a} \\\\ \n",
       "-\\frac{1}{2} {V}^{a c}_{i j} {t}^{i j}_{b c} \\hat{a}^{b} \\hat{a}_{a} \\\\ \n",
       "-\\frac{1}{4} {V}^{a c}_{i j} {t}^{k l}_{b c} \\hat{a}^{i} \\hat{a}^{j} \\hat{a}^{b} \\hat{a}_{a} \\hat{a}_{l} \\hat{a}_{k} \\\\ \n",
       "+\\frac{1}{2} {V}^{a b}_{i k} {t}^{j k}_{a b} \\hat{a}^{i} \\hat{a}_{j} \\\\ \n",
       "+\\frac{1}{4} {V}^{a b}_{i k} {t}^{j k}_{c d} \\hat{a}^{i} \\hat{a}^{c} \\hat{a}^{d} \\hat{a}_{b} \\hat{a}_{a} \\hat{a}_{j} \\\\ \n",
       "- {V}^{a c}_{i k} {t}^{j k}_{b c} \\hat{a}^{i} \\hat{a}^{b} \\hat{a}_{a} \\hat{a}_{j}$"
      ],
      "text/plain": [
       "<IPython.core.display.Math object>"
      ]
     },
     "metadata": {},
     "output_type": "display_data"
    }
   ],
   "source": [
    "WoovvT2 = w.commutator(Woovv,T2_e-T2_d)\n",
    "expr = wt.contract(WoovvT2,minrank=0,maxrank=10)\n",
    "latex(expr)"
   ]
  },
  {
   "cell_type": "code",
   "execution_count": 89,
   "id": "aba821e8",
   "metadata": {},
   "outputs": [
    {
     "data": {
      "text/latex": [
       "$\\displaystyle +\\frac{1}{8} {V}^{c d}_{a b} {t}^{i j}_{c d} \\hat{a}^{a} \\hat{a}^{b} \\hat{a}_{j} \\hat{a}_{i} \\\\ \n",
       "-\\frac{1}{4} {V}^{c e}_{a b} {t}^{i j}_{d e} \\hat{a}^{a} \\hat{a}^{b} \\hat{a}^{d} \\hat{a}_{c} \\hat{a}_{j} \\hat{a}_{i} \\\\ \n",
       "-\\frac{1}{4} {V}^{b c}_{a e} {t}^{d e}_{i j} \\hat{a}^{i} \\hat{a}^{j} \\hat{a}^{a} \\hat{a}_{d} \\hat{a}_{c} \\hat{a}_{b} \\\\ \n",
       "+\\frac{1}{8} {V}^{a b}_{c d} {t}^{c d}_{i j} \\hat{a}^{i} \\hat{a}^{j} \\hat{a}_{b} \\hat{a}_{a}$"
      ],
      "text/plain": [
       "<IPython.core.display.Math object>"
      ]
     },
     "metadata": {},
     "output_type": "display_data"
    }
   ],
   "source": [
    "WvvvvT2 = w.commutator(Wvvvv,T2_e-T2_d)\n",
    "expr = wt.contract(WvvvvT2,minrank=0,maxrank=10)\n",
    "latex(expr)"
   ]
  },
  {
   "cell_type": "code",
   "execution_count": 90,
   "id": "3e896b79",
   "metadata": {},
   "outputs": [
    {
     "data": {
      "text/latex": [
       "$\\displaystyle +\\frac{1}{8} {V}^{k l}_{i j} {t}^{a b}_{k l} \\hat{a}^{i} \\hat{a}^{j} \\hat{a}_{b} \\hat{a}_{a} \\\\ \n",
       "+\\frac{1}{4} {V}^{k m}_{i j} {t}^{a b}_{l m} \\hat{a}^{i} \\hat{a}^{j} \\hat{a}^{l} \\hat{a}_{b} \\hat{a}_{a} \\hat{a}_{k} \\\\ \n",
       "-\\frac{1}{4} {V}^{k b}_{i j} {t}^{l m}_{a b} \\hat{a}^{i} \\hat{a}^{j} \\hat{a}^{a} \\hat{a}_{m} \\hat{a}_{l} \\hat{a}_{k} \\\\ \n",
       "-\\frac{1}{4} {V}^{l a}_{i j} {t}^{b c}_{k l} \\hat{a}^{i} \\hat{a}^{j} \\hat{a}^{k} \\hat{a}_{c} \\hat{a}_{b} \\hat{a}_{a} \\\\ \n",
       "+\\frac{1}{4} {V}^{a b}_{i j} {t}^{i j}_{a b} \\\\ \n",
       "+\\frac{1}{8} {V}^{a b}_{i j} {t}^{k l}_{a b} \\hat{a}^{i} \\hat{a}^{j} \\hat{a}_{l} \\hat{a}_{k} \\\\ \n",
       "+\\frac{1}{8} {V}^{a b}_{i j} {t}^{i j}_{c d} \\hat{a}^{c} \\hat{a}^{d} \\hat{a}_{b} \\hat{a}_{a} \\\\ \n",
       "-\\frac{1}{2} {V}^{a c}_{i j} {t}^{i j}_{b c} \\hat{a}^{b} \\hat{a}_{a} \\\\ \n",
       "-\\frac{1}{4} {V}^{a c}_{i j} {t}^{k l}_{b c} \\hat{a}^{i} \\hat{a}^{j} \\hat{a}^{b} \\hat{a}_{a} \\hat{a}_{l} \\hat{a}_{k} \\\\ \n",
       "+\\frac{1}{2} {V}^{a b}_{i k} {t}^{j k}_{a b} \\hat{a}^{i} \\hat{a}_{j} \\\\ \n",
       "+\\frac{1}{4} {V}^{a b}_{i k} {t}^{j k}_{c d} \\hat{a}^{i} \\hat{a}^{c} \\hat{a}^{d} \\hat{a}_{b} \\hat{a}_{a} \\hat{a}_{j} \\\\ \n",
       "- {V}^{a c}_{i k} {t}^{j k}_{b c} \\hat{a}^{i} \\hat{a}^{b} \\hat{a}_{a} \\hat{a}_{j} \\\\ \n",
       "-\\frac{1}{2} {V}^{j a}_{i l} {t}^{k l}_{b c} \\hat{a}^{i} \\hat{a}^{b} \\hat{a}^{c} \\hat{a}_{a} \\hat{a}_{k} \\hat{a}_{j} \\\\ \n",
       "+ {V}^{j b}_{i l} {t}^{k l}_{a b} \\hat{a}^{i} \\hat{a}^{a} \\hat{a}_{k} \\hat{a}_{j} \\\\ \n",
       "+\\frac{1}{4} {V}^{j k}_{i m} {t}^{l m}_{a b} \\hat{a}^{i} \\hat{a}^{a} \\hat{a}^{b} \\hat{a}_{l} \\hat{a}_{k} \\hat{a}_{j} \\\\ \n",
       "+\\frac{1}{4} {V}^{j k}_{i a} {t}^{b c}_{j k} \\hat{a}^{i} \\hat{a}^{a} \\hat{a}_{c} \\hat{a}_{b} \\\\ \n",
       "-\\frac{1}{2} {V}^{j l}_{i a} {t}^{b c}_{k l} \\hat{a}^{i} \\hat{a}^{k} \\hat{a}^{a} \\hat{a}_{c} \\hat{a}_{b} \\hat{a}_{j} \\\\ \n",
       "-\\frac{1}{2} {V}^{j c}_{i a} {t}^{k l}_{b c} \\hat{a}^{i} \\hat{a}^{a} \\hat{a}^{b} \\hat{a}_{l} \\hat{a}_{k} \\hat{a}_{j} \\\\ \n",
       "+\\frac{1}{2} {V}^{k b}_{i a} {t}^{c d}_{j k} \\hat{a}^{i} \\hat{a}^{j} \\hat{a}^{a} \\hat{a}_{d} \\hat{a}_{c} \\hat{a}_{b} \\\\ \n",
       "+\\frac{1}{4} {V}^{b c}_{i a} {t}^{j k}_{b c} \\hat{a}^{i} \\hat{a}^{a} \\hat{a}_{k} \\hat{a}_{j} \\\\ \n",
       "-\\frac{1}{2} {V}^{b d}_{i a} {t}^{j k}_{c d} \\hat{a}^{i} \\hat{a}^{a} \\hat{a}^{c} \\hat{a}_{b} \\hat{a}_{k} \\hat{a}_{j} \\\\ \n",
       "-\\frac{1}{2} {V}^{j k}_{i b} {t}^{a b}_{j k} \\hat{a}^{i} \\hat{a}_{a} \\\\ \n",
       "-\\frac{1}{4} {V}^{j k}_{i b} {t}^{a b}_{l m} \\hat{a}^{i} \\hat{a}^{l} \\hat{a}^{m} \\hat{a}_{a} \\hat{a}_{k} \\hat{a}_{j} \\\\ \n",
       "+ {V}^{j l}_{i b} {t}^{a b}_{k l} \\hat{a}^{i} \\hat{a}^{k} \\hat{a}_{a} \\hat{a}_{j} \\\\ \n",
       "-\\frac{1}{2} {V}^{j a}_{i c} {t}^{b c}_{k l} \\hat{a}^{i} \\hat{a}^{k} \\hat{a}^{l} \\hat{a}_{b} \\hat{a}_{a} \\hat{a}_{j} \\\\ \n",
       "- {V}^{k a}_{i c} {t}^{b c}_{j k} \\hat{a}^{i} \\hat{a}^{j} \\hat{a}_{b} \\hat{a}_{a} \\\\ \n",
       "-\\frac{1}{4} {V}^{a b}_{i d} {t}^{c d}_{j k} \\hat{a}^{i} \\hat{a}^{j} \\hat{a}^{k} \\hat{a}_{c} \\hat{a}_{b} \\hat{a}_{a} \\\\ \n",
       "+\\frac{1}{4} {V}^{i a}_{j k} {t}^{j k}_{b c} \\hat{a}^{b} \\hat{a}^{c} \\hat{a}_{a} \\hat{a}_{i} \\\\ \n",
       "-\\frac{1}{2} {V}^{i b}_{j k} {t}^{j k}_{a b} \\hat{a}^{a} \\hat{a}_{i} \\\\ \n",
       "-\\frac{1}{2} {V}^{b c}_{j a} {t}^{i j}_{b c} \\hat{a}^{a} \\hat{a}_{i} \\\\ \n",
       "-\\frac{1}{4} {V}^{b c}_{j a} {t}^{i j}_{d e} \\hat{a}^{a} \\hat{a}^{d} \\hat{a}^{e} \\hat{a}_{c} \\hat{a}_{b} \\hat{a}_{i} \\\\ \n",
       "+ {V}^{b d}_{j a} {t}^{i j}_{c d} \\hat{a}^{a} \\hat{a}^{c} \\hat{a}_{b} \\hat{a}_{i} \\\\ \n",
       "+\\frac{1}{8} {V}^{i j}_{k l} {t}^{k l}_{a b} \\hat{a}^{a} \\hat{a}^{b} \\hat{a}_{j} \\hat{a}_{i} \\\\ \n",
       "+\\frac{1}{2} {V}^{i b}_{k a} {t}^{j k}_{c d} \\hat{a}^{a} \\hat{a}^{c} \\hat{a}^{d} \\hat{a}_{b} \\hat{a}_{j} \\hat{a}_{i} \\\\ \n",
       "- {V}^{i c}_{k a} {t}^{j k}_{b c} \\hat{a}^{a} \\hat{a}^{b} \\hat{a}_{j} \\hat{a}_{i} \\\\ \n",
       "-\\frac{1}{4} {V}^{i j}_{l a} {t}^{k l}_{b c} \\hat{a}^{a} \\hat{a}^{b} \\hat{a}^{c} \\hat{a}_{k} \\hat{a}_{j} \\hat{a}_{i} \\\\ \n",
       "+\\frac{1}{4} {V}^{i j}_{a b} {t}^{a b}_{i j} \\\\ \n",
       "+\\frac{1}{8} {V}^{i j}_{a b} {t}^{c d}_{i j} \\hat{a}^{a} \\hat{a}^{b} \\hat{a}_{d} \\hat{a}_{c} \\\\ \n",
       "+\\frac{1}{8} {V}^{i j}_{a b} {t}^{a b}_{k l} \\hat{a}^{k} \\hat{a}^{l} \\hat{a}_{j} \\hat{a}_{i} \\\\ \n",
       "+\\frac{1}{2} {V}^{i k}_{a b} {t}^{a b}_{j k} \\hat{a}^{j} \\hat{a}_{i} \\\\ \n",
       "+\\frac{1}{4} {V}^{i k}_{a b} {t}^{c d}_{j k} \\hat{a}^{j} \\hat{a}^{a} \\hat{a}^{b} \\hat{a}_{d} \\hat{a}_{c} \\hat{a}_{i} \\\\ \n",
       "-\\frac{1}{4} {V}^{i d}_{a b} {t}^{j k}_{c d} \\hat{a}^{a} \\hat{a}^{b} \\hat{a}^{c} \\hat{a}_{k} \\hat{a}_{j} \\hat{a}_{i} \\\\ \n",
       "-\\frac{1}{4} {V}^{j c}_{a b} {t}^{d e}_{i j} \\hat{a}^{i} \\hat{a}^{a} \\hat{a}^{b} \\hat{a}_{e} \\hat{a}_{d} \\hat{a}_{c} \\\\ \n",
       "+\\frac{1}{8} {V}^{c d}_{a b} {t}^{i j}_{c d} \\hat{a}^{a} \\hat{a}^{b} \\hat{a}_{j} \\hat{a}_{i} \\\\ \n",
       "-\\frac{1}{4} {V}^{c e}_{a b} {t}^{i j}_{d e} \\hat{a}^{a} \\hat{a}^{b} \\hat{a}^{d} \\hat{a}_{c} \\hat{a}_{j} \\hat{a}_{i} \\\\ \n",
       "-\\frac{1}{2} {V}^{i j}_{a c} {t}^{b c}_{i j} \\hat{a}^{a} \\hat{a}_{b} \\\\ \n",
       "-\\frac{1}{4} {V}^{i j}_{a c} {t}^{b c}_{k l} \\hat{a}^{k} \\hat{a}^{l} \\hat{a}^{a} \\hat{a}_{b} \\hat{a}_{j} \\hat{a}_{i} \\\\ \n",
       "- {V}^{i k}_{a c} {t}^{b c}_{j k} \\hat{a}^{j} \\hat{a}^{a} \\hat{a}_{b} \\hat{a}_{i} \\\\ \n",
       "-\\frac{1}{2} {V}^{i b}_{a d} {t}^{c d}_{j k} \\hat{a}^{j} \\hat{a}^{k} \\hat{a}^{a} \\hat{a}_{c} \\hat{a}_{b} \\hat{a}_{i} \\\\ \n",
       "+ {V}^{j b}_{a d} {t}^{c d}_{i j} \\hat{a}^{i} \\hat{a}^{a} \\hat{a}_{c} \\hat{a}_{b} \\\\ \n",
       "-\\frac{1}{4} {V}^{b c}_{a e} {t}^{d e}_{i j} \\hat{a}^{i} \\hat{a}^{j} \\hat{a}^{a} \\hat{a}_{d} \\hat{a}_{c} \\hat{a}_{b} \\\\ \n",
       "+\\frac{1}{4} {V}^{i a}_{b c} {t}^{b c}_{j k} \\hat{a}^{j} \\hat{a}^{k} \\hat{a}_{a} \\hat{a}_{i} \\\\ \n",
       "-\\frac{1}{2} {V}^{j a}_{b c} {t}^{b c}_{i j} \\hat{a}^{i} \\hat{a}_{a} \\\\ \n",
       "+\\frac{1}{8} {V}^{a b}_{c d} {t}^{c d}_{i j} \\hat{a}^{i} \\hat{a}^{j} \\hat{a}_{b} \\hat{a}_{a}$"
      ],
      "text/plain": [
       "<IPython.core.display.Math object>"
      ]
     },
     "metadata": {},
     "output_type": "display_data"
    }
   ],
   "source": [
    "WT2 = w.commutator(W,T2_e-T2_d)\n",
    "expr = wt.contract(WT2,minrank=0,maxrank=10)\n",
    "latex(expr)"
   ]
  },
  {
   "cell_type": "code",
   "execution_count": 92,
   "id": "1c807fdf",
   "metadata": {},
   "outputs": [
    {
     "data": {
      "text/latex": [
       "$\\displaystyle - {f}^{j}_{i} {t}^{i}_{a} {t}^{a}_{j} \\\\ \n",
       "+ {f}^{j}_{i} {t}^{i}_{a} {t}^{b}_{j} \\hat{a}^{a} \\hat{a}_{b} \\\\ \n",
       "- {f}^{k}_{i} {t}^{j}_{a} {t}^{a}_{k} \\hat{a}^{i} \\hat{a}_{j} \\\\ \n",
       "-2 {f}^{b}_{j} {t}^{j}_{a} {t}^{i}_{b} \\hat{a}^{a} \\hat{a}_{i} \\\\ \n",
       "- {f}^{j}_{a} {t}^{i}_{b} {t}^{b}_{j} \\hat{a}^{a} \\hat{a}_{i} \\\\ \n",
       "+ {f}^{b}_{a} {t}^{i}_{b} {t}^{a}_{i} \\\\ \n",
       "+ {f}^{b}_{a} {t}^{i}_{b} {t}^{a}_{j} \\hat{a}^{j} \\hat{a}_{i} \\\\ \n",
       "- {f}^{i}_{b} {t}^{j}_{a} {t}^{b}_{j} \\hat{a}^{a} \\hat{a}_{i} \\\\ \n",
       "- {f}^{a}_{c} {t}^{i}_{b} {t}^{c}_{i} \\hat{a}^{b} \\hat{a}_{a}$"
      ],
      "text/plain": [
       "<IPython.core.display.Math object>"
      ]
     },
     "metadata": {},
     "output_type": "display_data"
    }
   ],
   "source": [
    "F_T1_T1 = w.commutator(FT1,T1)\n",
    "expr = wt.contract(F_T1_T1,minrank=0,maxrank=10)\n",
    "latex(expr)"
   ]
  },
  {
   "cell_type": "code",
   "execution_count": 96,
   "id": "53827d37",
   "metadata": {},
   "outputs": [
    {
     "data": {
      "text/latex": [
       "$\\displaystyle +\\frac{1}{2} {f}^{j}_{i} {t}^{k}_{a} {t}^{b c}_{j k} \\hat{a}^{i} \\hat{a}^{a} \\hat{a}_{c} \\hat{a}_{b} \\\\ \n",
       "- {f}^{j}_{i} {t}^{k}_{b} {t}^{a b}_{j k} \\hat{a}^{i} \\hat{a}_{a} \\\\ \n",
       "- {f}^{l}_{i} {t}^{j}_{b} {t}^{a b}_{k l} \\hat{a}^{i} \\hat{a}^{k} \\hat{a}_{a} \\hat{a}_{j} \\\\ \n",
       "+ {f}^{a}_{i} {t}^{b}_{j} {t}^{i j}_{a b} \\\\ \n",
       "+\\frac{1}{2} {f}^{a}_{i} {t}^{b}_{j} {t}^{k l}_{a b} \\hat{a}^{i} \\hat{a}^{j} \\hat{a}_{l} \\hat{a}_{k} \\\\ \n",
       "+\\frac{1}{2} {f}^{a}_{i} {t}^{b}_{j} {t}^{i j}_{c d} \\hat{a}^{c} \\hat{a}^{d} \\hat{a}_{b} \\hat{a}_{a} \\\\ \n",
       "- {f}^{a}_{i} {t}^{c}_{j} {t}^{i j}_{b c} \\hat{a}^{b} \\hat{a}_{a} \\\\ \n",
       "+ {f}^{a}_{i} {t}^{b}_{k} {t}^{j k}_{a b} \\hat{a}^{i} \\hat{a}_{j} \\\\ \n",
       "+ {f}^{c}_{i} {t}^{a}_{j} {t}^{i j}_{b c} \\hat{a}^{b} \\hat{a}_{a} \\\\ \n",
       "+ {f}^{c}_{i} {t}^{a}_{k} {t}^{j k}_{b c} \\hat{a}^{i} \\hat{a}^{b} \\hat{a}_{a} \\hat{a}_{j} \\\\ \n",
       "+\\frac{1}{2} {f}^{i}_{j} {t}^{a}_{k} {t}^{j k}_{b c} \\hat{a}^{b} \\hat{a}^{c} \\hat{a}_{a} \\hat{a}_{i} \\\\ \n",
       "- {f}^{i}_{j} {t}^{b}_{k} {t}^{j k}_{a b} \\hat{a}^{a} \\hat{a}_{i} \\\\ \n",
       "+\\frac{1}{2} {f}^{k}_{j} {t}^{a}_{k} {t}^{i j}_{b c} \\hat{a}^{b} \\hat{a}^{c} \\hat{a}_{a} \\hat{a}_{i} \\\\ \n",
       "- {f}^{k}_{j} {t}^{b}_{k} {t}^{i j}_{a b} \\hat{a}^{a} \\hat{a}_{i} \\\\ \n",
       "+\\frac{1}{2} {f}^{k}_{j} {t}^{j}_{a} {t}^{b c}_{i k} \\hat{a}^{i} \\hat{a}^{a} \\hat{a}_{c} \\hat{a}_{b} \\\\ \n",
       "- {f}^{k}_{j} {t}^{j}_{b} {t}^{a b}_{i k} \\hat{a}^{i} \\hat{a}_{a} \\\\ \n",
       "- {f}^{a}_{k} {t}^{b}_{i} {t}^{j k}_{a b} \\hat{a}^{i} \\hat{a}_{j} \\\\ \n",
       "+ {f}^{a}_{k} {t}^{c}_{i} {t}^{j k}_{b c} \\hat{a}^{i} \\hat{a}^{b} \\hat{a}_{a} \\hat{a}_{j} \\\\ \n",
       "+\\frac{1}{2} {f}^{c}_{k} {t}^{k}_{a} {t}^{i j}_{b c} \\hat{a}^{a} \\hat{a}^{b} \\hat{a}_{j} \\hat{a}_{i} \\\\ \n",
       "+\\frac{1}{2} {f}^{c}_{k} {t}^{i}_{c} {t}^{j k}_{a b} \\hat{a}^{a} \\hat{a}^{b} \\hat{a}_{j} \\hat{a}_{i} \\\\ \n",
       "- {f}^{i}_{l} {t}^{b}_{j} {t}^{k l}_{a b} \\hat{a}^{j} \\hat{a}^{a} \\hat{a}_{k} \\hat{a}_{i} \\\\ \n",
       "+ {f}^{i}_{a} {t}^{j}_{b} {t}^{a b}_{i j} \\\\ \n",
       "+\\frac{1}{2} {f}^{i}_{a} {t}^{j}_{b} {t}^{c d}_{i j} \\hat{a}^{a} \\hat{a}^{b} \\hat{a}_{d} \\hat{a}_{c} \\\\ \n",
       "+\\frac{1}{2} {f}^{i}_{a} {t}^{j}_{b} {t}^{a b}_{k l} \\hat{a}^{k} \\hat{a}^{l} \\hat{a}_{j} \\hat{a}_{i} \\\\ \n",
       "+ {f}^{i}_{a} {t}^{k}_{b} {t}^{a b}_{j k} \\hat{a}^{j} \\hat{a}_{i} \\\\ \n",
       "- {f}^{i}_{a} {t}^{j}_{c} {t}^{b c}_{i j} \\hat{a}^{a} \\hat{a}_{b} \\\\ \n",
       "- {f}^{k}_{a} {t}^{i}_{b} {t}^{a b}_{j k} \\hat{a}^{j} \\hat{a}_{i} \\\\ \n",
       "+ {f}^{k}_{a} {t}^{i}_{c} {t}^{b c}_{j k} \\hat{a}^{j} \\hat{a}^{a} \\hat{a}_{b} \\hat{a}_{i} \\\\ \n",
       "-\\frac{1}{2} {f}^{b}_{a} {t}^{c}_{i} {t}^{j k}_{b c} \\hat{a}^{i} \\hat{a}^{a} \\hat{a}_{k} \\hat{a}_{j} \\\\ \n",
       "+ {f}^{b}_{a} {t}^{c}_{j} {t}^{i j}_{b c} \\hat{a}^{a} \\hat{a}_{i} \\\\ \n",
       "+ {f}^{d}_{a} {t}^{b}_{j} {t}^{i j}_{c d} \\hat{a}^{a} \\hat{a}^{c} \\hat{a}_{b} \\hat{a}_{i} \\\\ \n",
       "-\\frac{1}{2} {f}^{a}_{b} {t}^{i}_{c} {t}^{b c}_{j k} \\hat{a}^{j} \\hat{a}^{k} \\hat{a}_{a} \\hat{a}_{i} \\\\ \n",
       "+ {f}^{a}_{b} {t}^{j}_{c} {t}^{b c}_{i j} \\hat{a}^{i} \\hat{a}_{a} \\\\ \n",
       "-\\frac{1}{2} {f}^{c}_{b} {t}^{b}_{i} {t}^{j k}_{a c} \\hat{a}^{i} \\hat{a}^{a} \\hat{a}_{k} \\hat{a}_{j} \\\\ \n",
       "+ {f}^{c}_{b} {t}^{b}_{j} {t}^{i j}_{a c} \\hat{a}^{a} \\hat{a}_{i} \\\\ \n",
       "-\\frac{1}{2} {f}^{c}_{b} {t}^{i}_{c} {t}^{a b}_{j k} \\hat{a}^{j} \\hat{a}^{k} \\hat{a}_{a} \\hat{a}_{i} \\\\ \n",
       "+ {f}^{c}_{b} {t}^{j}_{c} {t}^{a b}_{i j} \\hat{a}^{i} \\hat{a}_{a} \\\\ \n",
       "+ {f}^{i}_{c} {t}^{j}_{a} {t}^{b c}_{i j} \\hat{a}^{a} \\hat{a}_{b} \\\\ \n",
       "+ {f}^{i}_{c} {t}^{k}_{a} {t}^{b c}_{j k} \\hat{a}^{j} \\hat{a}^{a} \\hat{a}_{b} \\hat{a}_{i} \\\\ \n",
       "+\\frac{1}{2} {f}^{k}_{c} {t}^{c}_{i} {t}^{a b}_{j k} \\hat{a}^{i} \\hat{a}^{j} \\hat{a}_{b} \\hat{a}_{a} \\\\ \n",
       "+\\frac{1}{2} {f}^{k}_{c} {t}^{a}_{k} {t}^{b c}_{i j} \\hat{a}^{i} \\hat{a}^{j} \\hat{a}_{b} \\hat{a}_{a} \\\\ \n",
       "+ {f}^{a}_{d} {t}^{j}_{b} {t}^{c d}_{i j} \\hat{a}^{i} \\hat{a}^{b} \\hat{a}_{c} \\hat{a}_{a}$"
      ],
      "text/plain": [
       "<IPython.core.display.Math object>"
      ]
     },
     "metadata": {},
     "output_type": "display_data"
    }
   ],
   "source": [
    "F_T2_T1 = w.commutator(FT2,T1_e-T1_d)\n",
    "expr = wt.contract(F_T2_T1,minrank=0,maxrank=10)\n",
    "latex(expr)"
   ]
  },
  {
   "cell_type": "code",
   "execution_count": 97,
   "id": "65965a73",
   "metadata": {},
   "outputs": [
    {
     "data": {
      "text/latex": [
       "$\\displaystyle +\\frac{1}{2} {f}^{l}_{i} {t}^{b}_{l} {t}^{j k}_{a b} \\hat{a}^{i} \\hat{a}^{a} \\hat{a}_{k} \\hat{a}_{j} \\\\ \n",
       "+\\frac{1}{2} {f}^{c}_{i} {t}^{k}_{c} {t}^{a b}_{j k} \\hat{a}^{i} \\hat{a}^{j} \\hat{a}_{b} \\hat{a}_{a} \\\\ \n",
       "+\\frac{1}{2} {f}^{k}_{j} {t}^{a}_{k} {t}^{i j}_{b c} \\hat{a}^{b} \\hat{a}^{c} \\hat{a}_{a} \\hat{a}_{i} \\\\ \n",
       "- {f}^{k}_{j} {t}^{b}_{k} {t}^{i j}_{a b} \\hat{a}^{a} \\hat{a}_{i} \\\\ \n",
       "+\\frac{1}{2} {f}^{k}_{j} {t}^{j}_{a} {t}^{b c}_{i k} \\hat{a}^{i} \\hat{a}^{a} \\hat{a}_{c} \\hat{a}_{b} \\\\ \n",
       "- {f}^{k}_{j} {t}^{j}_{b} {t}^{a b}_{i k} \\hat{a}^{i} \\hat{a}_{a} \\\\ \n",
       "+\\frac{1}{2} {f}^{a}_{k} {t}^{k}_{c} {t}^{b c}_{i j} \\hat{a}^{i} \\hat{a}^{j} \\hat{a}_{b} \\hat{a}_{a} \\\\ \n",
       "+\\frac{1}{2} {f}^{c}_{k} {t}^{k}_{a} {t}^{i j}_{b c} \\hat{a}^{a} \\hat{a}^{b} \\hat{a}_{j} \\hat{a}_{i} \\\\ \n",
       "+\\frac{1}{2} {f}^{c}_{k} {t}^{i}_{c} {t}^{j k}_{a b} \\hat{a}^{a} \\hat{a}^{b} \\hat{a}_{j} \\hat{a}_{i} \\\\ \n",
       "+\\frac{1}{2} {f}^{i}_{l} {t}^{l}_{b} {t}^{a b}_{j k} \\hat{a}^{j} \\hat{a}^{k} \\hat{a}_{a} \\hat{a}_{i} \\\\ \n",
       "+\\frac{1}{2} {f}^{k}_{a} {t}^{c}_{k} {t}^{i j}_{b c} \\hat{a}^{a} \\hat{a}^{b} \\hat{a}_{j} \\hat{a}_{i} \\\\ \n",
       "-\\frac{1}{2} {f}^{d}_{a} {t}^{j}_{d} {t}^{b c}_{i j} \\hat{a}^{i} \\hat{a}^{a} \\hat{a}_{c} \\hat{a}_{b} \\\\ \n",
       "-\\frac{1}{2} {f}^{c}_{b} {t}^{b}_{i} {t}^{j k}_{a c} \\hat{a}^{i} \\hat{a}^{a} \\hat{a}_{k} \\hat{a}_{j} \\\\ \n",
       "+ {f}^{c}_{b} {t}^{b}_{j} {t}^{i j}_{a c} \\hat{a}^{a} \\hat{a}_{i} \\\\ \n",
       "-\\frac{1}{2} {f}^{c}_{b} {t}^{i}_{c} {t}^{a b}_{j k} \\hat{a}^{j} \\hat{a}^{k} \\hat{a}_{a} \\hat{a}_{i} \\\\ \n",
       "+ {f}^{c}_{b} {t}^{j}_{c} {t}^{a b}_{i j} \\hat{a}^{i} \\hat{a}_{a} \\\\ \n",
       "+\\frac{1}{2} {f}^{i}_{c} {t}^{c}_{k} {t}^{j k}_{a b} \\hat{a}^{a} \\hat{a}^{b} \\hat{a}_{j} \\hat{a}_{i} \\\\ \n",
       "+\\frac{1}{2} {f}^{k}_{c} {t}^{c}_{i} {t}^{a b}_{j k} \\hat{a}^{i} \\hat{a}^{j} \\hat{a}_{b} \\hat{a}_{a} \\\\ \n",
       "+\\frac{1}{2} {f}^{k}_{c} {t}^{a}_{k} {t}^{b c}_{i j} \\hat{a}^{i} \\hat{a}^{j} \\hat{a}_{b} \\hat{a}_{a} \\\\ \n",
       "-\\frac{1}{2} {f}^{a}_{d} {t}^{d}_{j} {t}^{i j}_{b c} \\hat{a}^{b} \\hat{a}^{c} \\hat{a}_{a} \\hat{a}_{i}$"
      ],
      "text/plain": [
       "<IPython.core.display.Math object>"
      ]
     },
     "metadata": {},
     "output_type": "display_data"
    }
   ],
   "source": [
    "F_T1_T2 = w.commutator(FT1,T2_e-T2_d)\n",
    "expr = wt.contract(F_T1_T2,minrank=0,maxrank=10)\n",
    "latex(expr)"
   ]
  },
  {
   "cell_type": "code",
   "execution_count": 98,
   "id": "a46b5977",
   "metadata": {},
   "outputs": [
    {
     "data": {
      "text/latex": [
       "$\\displaystyle - {f}^{j}_{i} {t}^{i k}_{a b} {t}^{a b}_{j k} \\\\ \n",
       "-\\frac{1}{2} {f}^{j}_{i} {t}^{i k}_{a b} {t}^{c d}_{j k} \\hat{a}^{a} \\hat{a}^{b} \\hat{a}_{d} \\hat{a}_{c} \\\\ \n",
       "2 {f}^{j}_{i} {t}^{i k}_{a c} {t}^{b c}_{j k} \\hat{a}^{a} \\hat{a}_{b} \\\\ \n",
       "-\\frac{1}{2} {f}^{k}_{i} {t}^{j l}_{a b} {t}^{a b}_{k l} \\hat{a}^{i} \\hat{a}_{j} \\\\ \n",
       "-\\frac{1}{4} {f}^{k}_{i} {t}^{j l}_{a b} {t}^{c d}_{k l} \\hat{a}^{i} \\hat{a}^{a} \\hat{a}^{b} \\hat{a}_{d} \\hat{a}_{c} \\hat{a}_{j} \\\\ \n",
       "+ {f}^{k}_{i} {t}^{j l}_{a c} {t}^{b c}_{k l} \\hat{a}^{i} \\hat{a}^{a} \\hat{a}_{b} \\hat{a}_{j} \\\\ \n",
       "+\\frac{1}{4} {f}^{m}_{i} {t}^{j k}_{a b} {t}^{a b}_{l m} \\hat{a}^{i} \\hat{a}^{l} \\hat{a}_{k} \\hat{a}_{j} \\\\ \n",
       "-\\frac{1}{2} {f}^{m}_{i} {t}^{j k}_{a c} {t}^{b c}_{l m} \\hat{a}^{i} \\hat{a}^{l} \\hat{a}^{a} \\hat{a}_{b} \\hat{a}_{k} \\hat{a}_{j} \\\\ \n",
       "-\\frac{1}{2} {f}^{b}_{i} {t}^{j k}_{b c} {t}^{a c}_{j k} \\hat{a}^{i} \\hat{a}_{a} \\\\ \n",
       "-\\frac{1}{4} {f}^{b}_{i} {t}^{j k}_{b c} {t}^{a c}_{l m} \\hat{a}^{i} \\hat{a}^{l} \\hat{a}^{m} \\hat{a}_{a} \\hat{a}_{k} \\hat{a}_{j} \\\\ \n",
       "+ {f}^{b}_{i} {t}^{j l}_{b c} {t}^{a c}_{k l} \\hat{a}^{i} \\hat{a}^{k} \\hat{a}_{a} \\hat{a}_{j} \\\\ \n",
       "-\\frac{1}{4} {f}^{d}_{i} {t}^{j k}_{a d} {t}^{b c}_{j k} \\hat{a}^{i} \\hat{a}^{a} \\hat{a}_{c} \\hat{a}_{b} \\\\ \n",
       "+\\frac{1}{2} {f}^{d}_{i} {t}^{j l}_{a d} {t}^{b c}_{k l} \\hat{a}^{i} \\hat{a}^{k} \\hat{a}^{a} \\hat{a}_{c} \\hat{a}_{b} \\hat{a}_{j} \\\\ \n",
       "-\\frac{1}{2} {f}^{a}_{j} {t}^{j k}_{b c} {t}^{b c}_{i k} \\hat{a}^{i} \\hat{a}_{a} \\\\ \n",
       "-\\frac{1}{4} {f}^{a}_{j} {t}^{j k}_{b c} {t}^{d e}_{i k} \\hat{a}^{i} \\hat{a}^{b} \\hat{a}^{c} \\hat{a}_{e} \\hat{a}_{d} \\hat{a}_{a} \\\\ \n",
       "+ {f}^{a}_{j} {t}^{j k}_{b d} {t}^{c d}_{i k} \\hat{a}^{i} \\hat{a}^{b} \\hat{a}_{c} \\hat{a}_{a} \\\\ \n",
       "+ {f}^{b}_{j} {t}^{j k}_{b c} {t}^{a c}_{i k} \\hat{a}^{i} \\hat{a}_{a} \\\\ \n",
       "+\\frac{1}{2} {f}^{d}_{j} {t}^{j k}_{a d} {t}^{b c}_{i k} \\hat{a}^{i} \\hat{a}^{a} \\hat{a}_{c} \\hat{a}_{b} \\\\ \n",
       "-\\frac{1}{2} {f}^{i}_{k} {t}^{k l}_{a b} {t}^{a b}_{j l} \\hat{a}^{j} \\hat{a}_{i} \\\\ \n",
       "-\\frac{1}{4} {f}^{i}_{k} {t}^{k l}_{a b} {t}^{c d}_{j l} \\hat{a}^{j} \\hat{a}^{a} \\hat{a}^{b} \\hat{a}_{d} \\hat{a}_{c} \\hat{a}_{i} \\\\ \n",
       "+ {f}^{i}_{k} {t}^{k l}_{a c} {t}^{b c}_{j l} \\hat{a}^{j} \\hat{a}^{a} \\hat{a}_{b} \\hat{a}_{i} \\\\ \n",
       "- {f}^{l}_{k} {t}^{i k}_{a b} {t}^{a b}_{j l} \\hat{a}^{j} \\hat{a}_{i} \\\\ \n",
       "-\\frac{1}{2} {f}^{l}_{k} {t}^{i k}_{a b} {t}^{c d}_{j l} \\hat{a}^{j} \\hat{a}^{a} \\hat{a}^{b} \\hat{a}_{d} \\hat{a}_{c} \\hat{a}_{i} \\\\ \n",
       "2 {f}^{l}_{k} {t}^{i k}_{a c} {t}^{b c}_{j l} \\hat{a}^{j} \\hat{a}^{a} \\hat{a}_{b} \\hat{a}_{i} \\\\ \n",
       "-\\frac{1}{4} {f}^{a}_{l} {t}^{i l}_{b c} {t}^{b c}_{j k} \\hat{a}^{j} \\hat{a}^{k} \\hat{a}_{a} \\hat{a}_{i} \\\\ \n",
       "+\\frac{1}{2} {f}^{a}_{l} {t}^{i l}_{b d} {t}^{c d}_{j k} \\hat{a}^{j} \\hat{a}^{k} \\hat{a}^{b} \\hat{a}_{c} \\hat{a}_{a} \\hat{a}_{i} \\\\ \n",
       "+\\frac{1}{2} {f}^{b}_{l} {t}^{i l}_{b c} {t}^{a c}_{j k} \\hat{a}^{j} \\hat{a}^{k} \\hat{a}_{a} \\hat{a}_{i} \\\\ \n",
       "+\\frac{1}{2} {f}^{d}_{l} {t}^{i l}_{a b} {t}^{j k}_{c d} \\hat{a}^{a} \\hat{a}^{b} \\hat{a}^{c} \\hat{a}_{k} \\hat{a}_{j} \\hat{a}_{i} \\\\ \n",
       "+\\frac{1}{4} {f}^{i}_{m} {t}^{j m}_{a b} {t}^{a b}_{k l} \\hat{a}^{k} \\hat{a}^{l} \\hat{a}_{j} \\hat{a}_{i} \\\\ \n",
       "-\\frac{1}{2} {f}^{i}_{m} {t}^{j m}_{a c} {t}^{b c}_{k l} \\hat{a}^{k} \\hat{a}^{l} \\hat{a}^{a} \\hat{a}_{b} \\hat{a}_{j} \\hat{a}_{i} \\\\ \n",
       "-\\frac{1}{2} {f}^{j}_{a} {t}^{i k}_{b c} {t}^{b c}_{j k} \\hat{a}^{a} \\hat{a}_{i} \\\\ \n",
       "-\\frac{1}{4} {f}^{j}_{a} {t}^{i k}_{b c} {t}^{d e}_{j k} \\hat{a}^{a} \\hat{a}^{b} \\hat{a}^{c} \\hat{a}_{e} \\hat{a}_{d} \\hat{a}_{i} \\\\ \n",
       "+ {f}^{j}_{a} {t}^{i k}_{b d} {t}^{c d}_{j k} \\hat{a}^{a} \\hat{a}^{b} \\hat{a}_{c} \\hat{a}_{i} \\\\ \n",
       "-\\frac{1}{4} {f}^{l}_{a} {t}^{i j}_{b c} {t}^{b c}_{k l} \\hat{a}^{k} \\hat{a}^{a} \\hat{a}_{j} \\hat{a}_{i} \\\\ \n",
       "+\\frac{1}{2} {f}^{l}_{a} {t}^{i j}_{b d} {t}^{c d}_{k l} \\hat{a}^{k} \\hat{a}^{a} \\hat{a}^{b} \\hat{a}_{c} \\hat{a}_{j} \\hat{a}_{i} \\\\ \n",
       "+ {f}^{b}_{a} {t}^{i j}_{b c} {t}^{a c}_{i j} \\\\ \n",
       "+\\frac{1}{2} {f}^{b}_{a} {t}^{i j}_{b c} {t}^{a c}_{k l} \\hat{a}^{k} \\hat{a}^{l} \\hat{a}_{j} \\hat{a}_{i} \\\\ \n",
       "2 {f}^{b}_{a} {t}^{i k}_{b c} {t}^{a c}_{j k} \\hat{a}^{j} \\hat{a}_{i} \\\\ \n",
       "-\\frac{1}{2} {f}^{c}_{a} {t}^{i j}_{c d} {t}^{b d}_{i j} \\hat{a}^{a} \\hat{a}_{b} \\\\ \n",
       "-\\frac{1}{4} {f}^{c}_{a} {t}^{i j}_{c d} {t}^{b d}_{k l} \\hat{a}^{k} \\hat{a}^{l} \\hat{a}^{a} \\hat{a}_{b} \\hat{a}_{j} \\hat{a}_{i} \\\\ \n",
       "- {f}^{c}_{a} {t}^{i k}_{c d} {t}^{b d}_{j k} \\hat{a}^{j} \\hat{a}^{a} \\hat{a}_{b} \\hat{a}_{i} \\\\ \n",
       "-\\frac{1}{4} {f}^{e}_{a} {t}^{i j}_{b e} {t}^{c d}_{i j} \\hat{a}^{a} \\hat{a}^{b} \\hat{a}_{d} \\hat{a}_{c} \\\\ \n",
       "-\\frac{1}{2} {f}^{e}_{a} {t}^{i k}_{b e} {t}^{c d}_{j k} \\hat{a}^{j} \\hat{a}^{a} \\hat{a}^{b} \\hat{a}_{d} \\hat{a}_{c} \\hat{a}_{i} \\\\ \n",
       "-\\frac{1}{2} {f}^{i}_{b} {t}^{j k}_{a c} {t}^{b c}_{j k} \\hat{a}^{a} \\hat{a}_{i} \\\\ \n",
       "-\\frac{1}{4} {f}^{i}_{b} {t}^{j k}_{a c} {t}^{b c}_{l m} \\hat{a}^{l} \\hat{a}^{m} \\hat{a}^{a} \\hat{a}_{k} \\hat{a}_{j} \\hat{a}_{i} \\\\ \n",
       "+ {f}^{i}_{b} {t}^{j l}_{a c} {t}^{b c}_{k l} \\hat{a}^{k} \\hat{a}^{a} \\hat{a}_{j} \\hat{a}_{i} \\\\ \n",
       "+ {f}^{j}_{b} {t}^{i k}_{a c} {t}^{b c}_{j k} \\hat{a}^{a} \\hat{a}_{i} \\\\ \n",
       "+\\frac{1}{2} {f}^{l}_{b} {t}^{i j}_{a c} {t}^{b c}_{k l} \\hat{a}^{k} \\hat{a}^{a} \\hat{a}_{j} \\hat{a}_{i} \\\\ \n",
       "-\\frac{1}{2} {f}^{a}_{c} {t}^{i j}_{b d} {t}^{c d}_{i j} \\hat{a}^{b} \\hat{a}_{a} \\\\ \n",
       "-\\frac{1}{4} {f}^{a}_{c} {t}^{i j}_{b d} {t}^{c d}_{k l} \\hat{a}^{k} \\hat{a}^{l} \\hat{a}^{b} \\hat{a}_{a} \\hat{a}_{j} \\hat{a}_{i} \\\\ \n",
       "- {f}^{a}_{c} {t}^{i k}_{b d} {t}^{c d}_{j k} \\hat{a}^{j} \\hat{a}^{b} \\hat{a}_{a} \\hat{a}_{i} \\\\ \n",
       "- {f}^{d}_{c} {t}^{i j}_{a d} {t}^{b c}_{i j} \\hat{a}^{a} \\hat{a}_{b} \\\\ \n",
       "-\\frac{1}{2} {f}^{d}_{c} {t}^{i j}_{a d} {t}^{b c}_{k l} \\hat{a}^{k} \\hat{a}^{l} \\hat{a}^{a} \\hat{a}_{b} \\hat{a}_{j} \\hat{a}_{i} \\\\ \n",
       "-2 {f}^{d}_{c} {t}^{i k}_{a d} {t}^{b c}_{j k} \\hat{a}^{j} \\hat{a}^{a} \\hat{a}_{b} \\hat{a}_{i} \\\\ \n",
       "-\\frac{1}{4} {f}^{i}_{d} {t}^{j k}_{a b} {t}^{c d}_{j k} \\hat{a}^{a} \\hat{a}^{b} \\hat{a}_{c} \\hat{a}_{i} \\\\ \n",
       "+\\frac{1}{2} {f}^{i}_{d} {t}^{j l}_{a b} {t}^{c d}_{k l} \\hat{a}^{k} \\hat{a}^{a} \\hat{a}^{b} \\hat{a}_{c} \\hat{a}_{j} \\hat{a}_{i} \\\\ \n",
       "+\\frac{1}{2} {f}^{j}_{d} {t}^{i k}_{a b} {t}^{c d}_{j k} \\hat{a}^{a} \\hat{a}^{b} \\hat{a}_{c} \\hat{a}_{i} \\\\ \n",
       "+\\frac{1}{2} {f}^{l}_{d} {t}^{a d}_{i j} {t}^{b c}_{k l} \\hat{a}^{i} \\hat{a}^{j} \\hat{a}^{k} \\hat{a}_{c} \\hat{a}_{b} \\hat{a}_{a} \\\\ \n",
       "-\\frac{1}{4} {f}^{a}_{e} {t}^{i j}_{b c} {t}^{d e}_{i j} \\hat{a}^{b} \\hat{a}^{c} \\hat{a}_{d} \\hat{a}_{a} \\\\ \n",
       "-\\frac{1}{2} {f}^{a}_{e} {t}^{i k}_{b c} {t}^{d e}_{j k} \\hat{a}^{j} \\hat{a}^{b} \\hat{a}^{c} \\hat{a}_{d} \\hat{a}_{a} \\hat{a}_{i}$"
      ],
      "text/plain": [
       "<IPython.core.display.Math object>"
      ]
     },
     "metadata": {},
     "output_type": "display_data"
    }
   ],
   "source": [
    "F_T2_T2 = w.commutator(FT2,T2_e-T2_d)\n",
    "expr = wt.contract(F_T2_T2,minrank=0,maxrank=10)\n",
    "latex(expr)"
   ]
  },
  {
   "cell_type": "code",
   "execution_count": null,
   "id": "9dd20dd4",
   "metadata": {},
   "outputs": [],
   "source": []
  }
 ],
 "metadata": {
  "kernelspec": {
   "display_name": "Python 3 (ipykernel)",
   "language": "python",
   "name": "python3"
  },
  "language_info": {
   "codemirror_mode": {
    "name": "ipython",
    "version": 3
   },
   "file_extension": ".py",
   "mimetype": "text/x-python",
   "name": "python",
   "nbconvert_exporter": "python",
   "pygments_lexer": "ipython3",
   "version": "3.7.16"
  }
 },
 "nbformat": 4,
 "nbformat_minor": 5
}
